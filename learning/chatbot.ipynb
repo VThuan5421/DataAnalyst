{
  "nbformat": 4,
  "nbformat_minor": 0,
  "metadata": {
    "colab": {
      "name": "chatbot.ipynb",
      "provenance": [],
      "collapsed_sections": [],
      "authorship_tag": "ABX9TyOFuhxhpnSIAoRknJV8nDkN",
      "include_colab_link": true
    },
    "kernelspec": {
      "name": "python3",
      "display_name": "Python 3"
    },
    "language_info": {
      "name": "python"
    }
  },
  "cells": [
    {
      "cell_type": "markdown",
      "metadata": {
        "id": "view-in-github",
        "colab_type": "text"
      },
      "source": [
        "<a href=\"https://colab.research.google.com/github/VThuan5421/DataAnalyst/blob/main/learning/chatbot.ipynb\" target=\"_parent\"><img src=\"https://colab.research.google.com/assets/colab-badge.svg\" alt=\"Open In Colab\"/></a>"
      ]
    },
    {
      "cell_type": "code",
      "execution_count": 1,
      "metadata": {
        "id": "RKo9tIhjRSHz"
      },
      "outputs": [],
      "source": [
        "path = \"https://raw.githubusercontent.com/VThuan5421/DataAnalyst/main/data/intents.json\""
      ]
    },
    {
      "cell_type": "code",
      "source": [
        "import nltk\n",
        "nltk.download(\"punkt\")\n",
        "nltk.download(\"wordnet\")\n",
        "from nltk.stem import WordNetLemmatizer\n",
        "lemmatizer = WordNetLemmatizer()"
      ],
      "metadata": {
        "colab": {
          "base_uri": "https://localhost:8080/"
        },
        "id": "z_PggxibTF0l",
        "outputId": "b8aaafed-35dd-48f7-9ec8-4c3665415ac7"
      },
      "execution_count": 20,
      "outputs": [
        {
          "output_type": "stream",
          "name": "stdout",
          "text": [
            "[nltk_data] Downloading package punkt to /root/nltk_data...\n",
            "[nltk_data]   Package punkt is already up-to-date!\n",
            "[nltk_data] Downloading package wordnet to /root/nltk_data...\n",
            "[nltk_data]   Unzipping corpora/wordnet.zip.\n"
          ]
        }
      ]
    },
    {
      "cell_type": "code",
      "source": [
        "import numpy as np\n",
        "from keras.models import Sequential\n",
        "from keras.layers import Dense, Dropout\n",
        "import json\n",
        "import pandas as pd"
      ],
      "metadata": {
        "id": "iKZNi6F7TWHX"
      },
      "execution_count": 9,
      "outputs": []
    },
    {
      "cell_type": "code",
      "source": [
        "words = [] # store all words in the patterns in intents file\n",
        "classes = [] # store type of patterns\n",
        "documents = [] # store all words (patterns) and it's classes\n",
        "ignore_words = [\"?\", \"!\"]\n",
        "# read file\n",
        "intents = pd.read_json(path)"
      ],
      "metadata": {
        "id": "_tyV2pMgTeun"
      },
      "execution_count": 16,
      "outputs": []
    },
    {
      "cell_type": "code",
      "source": [
        "intents['intents']"
      ],
      "metadata": {
        "colab": {
          "base_uri": "https://localhost:8080/"
        },
        "id": "nkiirJ89VBqf",
        "outputId": "09d33e86-2978-4583-ea72-d631a36211de"
      },
      "execution_count": 12,
      "outputs": [
        {
          "output_type": "execute_result",
          "data": {
            "text/plain": [
              "0     {'tag': 'greeting', 'patterns': ['Hi there', '...\n",
              "1     {'tag': 'goodbye', 'patterns': ['Bye', 'See yo...\n",
              "2     {'tag': 'thanks', 'patterns': ['Thanks', 'Than...\n",
              "3     {'tag': 'noanswer', 'patterns': [], 'responses...\n",
              "4     {'tag': 'options', 'patterns': ['How you could...\n",
              "5     {'tag': 'adverse_drug', 'patterns': ['How to c...\n",
              "6     {'tag': 'blood_pressure', 'patterns': ['Open b...\n",
              "7     {'tag': 'blood_pressure_search', 'patterns': [...\n",
              "8     {'tag': 'search_blood_pressure_by_patient_id',...\n",
              "9     {'tag': 'pharmacy_search', 'patterns': ['Find ...\n",
              "10    {'tag': 'search_pharmacy_by_name', 'patterns':...\n",
              "11    {'tag': 'hospital_search', 'patterns': ['Looku...\n",
              "12    {'tag': 'search_hospital_by_params', 'patterns...\n",
              "13    {'tag': 'search_hospital_by_type', 'patterns':...\n",
              "Name: intents, dtype: object"
            ]
          },
          "metadata": {},
          "execution_count": 12
        }
      ]
    },
    {
      "cell_type": "code",
      "source": [
        "for intent in intents['intents']:\n",
        "  for pattern in intent['patterns']:\n",
        "    # tokenize pattern to words\n",
        "    w = nltk.word_tokenize(pattern)\n",
        "    words.extend(w)\n",
        "    documents.append((w, intent['tag']))\n",
        "    if intent['tag'] not in classes:\n",
        "      classes.append(intent['tag'])"
      ],
      "metadata": {
        "id": "r-8j9RWzVLsP"
      },
      "execution_count": 17,
      "outputs": []
    },
    {
      "cell_type": "code",
      "source": [
        "# stem words (create base word). Remove duplicate\n",
        "words = [lemmatizer.lemmatize(w.lower()) for w in words if w not in ignore_words]\n",
        "words = sorted(list(set(words)))"
      ],
      "metadata": {
        "id": "k_nQKsnxVp6_"
      },
      "execution_count": 21,
      "outputs": []
    },
    {
      "cell_type": "code",
      "source": [
        "print(\"Length (words): \", len(words), \" \", words[:5])\n",
        "print(\"Length (classes): \", len(classes), \" \", classes)"
      ],
      "metadata": {
        "colab": {
          "base_uri": "https://localhost:8080/"
        },
        "id": "GXDvJxkDZcdB",
        "outputId": "92902572-ec2e-4c6b-fe4c-77f78e63fa1e"
      },
      "execution_count": 23,
      "outputs": [
        {
          "output_type": "stream",
          "name": "stdout",
          "text": [
            "Length (words):  88   [\"'s\", ',', 'a', 'adverse', 'all']\n",
            "Length (classes):  9   ['greeting', 'goodbye', 'thanks', 'options', 'adverse_drug', 'blood_pressure', 'blood_pressure_search', 'pharmacy_search', 'hospital_search']\n"
          ]
        }
      ]
    },
    {
      "cell_type": "code",
      "source": [
        "#normalize text to binary data\n",
        "training = []\n",
        "output_empty = [0] * len(classes) # expected output is a one of classes\n",
        "for doc in documents:\n",
        "  pattern = doc[0]\n",
        "  # initialize bag of words for training\n",
        "  bag = []\n",
        "  for w in words:\n",
        "    bag.append(1) if w in pattern else bag.append(0)\n",
        "  output_row = list(output_empty)\n",
        "  output_row[classes.index(doc[1])] = 1\n",
        "  training.append([bag, output_row])\n",
        "\n",
        "np.random.shuffle(training)\n"
      ],
      "metadata": {
        "id": "HuTW5lyAZtxi"
      },
      "execution_count": 31,
      "outputs": []
    },
    {
      "cell_type": "code",
      "source": [
        "training = np.array(training)\n",
        "print(training[:1, 0])\n",
        "print(training[:1, 1])"
      ],
      "metadata": {
        "colab": {
          "base_uri": "https://localhost:8080/"
        },
        "id": "qwCM5yVccoLi",
        "outputId": "0ac64951-880a-48cf-b56d-33674432faad"
      },
      "execution_count": 32,
      "outputs": [
        {
          "output_type": "stream",
          "name": "stdout",
          "text": [
            "[list([0, 0, 0, 0, 0, 0, 0, 0, 0, 0, 0, 0, 0, 0, 0, 0, 0, 1, 0, 0, 0, 0, 0, 0, 0, 0, 0, 0, 0, 0, 0, 0, 1, 0, 0, 0, 0, 0, 0, 0, 0, 0, 0, 0, 0, 0, 0, 0, 0, 0, 0, 0, 1, 0, 0, 0, 0, 0, 0, 0, 0, 0, 0, 0, 0, 0, 0, 0, 0, 0, 0, 0, 0, 0, 0, 0, 0, 0, 0, 0, 0, 0, 0, 0, 0, 0, 0, 1])]\n",
            "[list([0, 0, 0, 1, 0, 0, 0, 0, 0])]\n"
          ]
        },
        {
          "output_type": "stream",
          "name": "stderr",
          "text": [
            "/usr/local/lib/python3.7/dist-packages/ipykernel_launcher.py:1: VisibleDeprecationWarning: Creating an ndarray from ragged nested sequences (which is a list-or-tuple of lists-or-tuples-or ndarrays with different lengths or shapes) is deprecated. If you meant to do this, you must specify 'dtype=object' when creating the ndarray\n",
            "  \"\"\"Entry point for launching an IPython kernel.\n"
          ]
        }
      ]
    },
    {
      "cell_type": "code",
      "source": [
        "# Create x_train, y_train\n",
        "x_train = list(training[:, 0])\n",
        "y_train = list(training[:, 1])\n",
        "# define the model\n",
        "model = Sequential()\n",
        "model.add(Dense(128, activation = \"relu\", input_shape = (len(x_train[0]), )))\n",
        "model.add(Dropout(0.5))\n",
        "\n",
        "model.add(Dense(64, activation = \"relu\"))\n",
        "model.add(Dropout(0.5))\n",
        "\n",
        "model.add(Dense(len(y_train[0]), activation = \"softmax\"))\n",
        "# compiling and fitting model\n",
        "model.compile(optimizer = \"adam\", loss = \"binary_crossentropy\", metrics = ['accuracy'])\n",
        "hist = model.fit(np.array(x_train), np.array(y_train), verbose = 1, epochs = 200, batch_size = 5)\n",
        "#model.save(\"model.h5\", hist)\n",
        "print(\"Done\")"
      ],
      "metadata": {
        "colab": {
          "base_uri": "https://localhost:8080/"
        },
        "id": "1pNbPN2qc685",
        "outputId": "09f10a8e-30b9-4b65-a6e1-9f705c537438"
      },
      "execution_count": 33,
      "outputs": [
        {
          "output_type": "stream",
          "name": "stdout",
          "text": [
            "Epoch 1/200\n",
            "10/10 [==============================] - 1s 3ms/step - loss: 0.6796 - accuracy: 0.1489\n",
            "Epoch 2/200\n",
            "10/10 [==============================] - 0s 2ms/step - loss: 0.6341 - accuracy: 0.1277\n",
            "Epoch 3/200\n",
            "10/10 [==============================] - 0s 2ms/step - loss: 0.6091 - accuracy: 0.1489\n",
            "Epoch 4/200\n",
            "10/10 [==============================] - 0s 2ms/step - loss: 0.5661 - accuracy: 0.1915\n",
            "Epoch 5/200\n",
            "10/10 [==============================] - 0s 2ms/step - loss: 0.5279 - accuracy: 0.1489\n",
            "Epoch 6/200\n",
            "10/10 [==============================] - 0s 2ms/step - loss: 0.4881 - accuracy: 0.1489\n",
            "Epoch 7/200\n",
            "10/10 [==============================] - 0s 3ms/step - loss: 0.4572 - accuracy: 0.1064\n",
            "Epoch 8/200\n",
            "10/10 [==============================] - 0s 2ms/step - loss: 0.4152 - accuracy: 0.2553\n",
            "Epoch 9/200\n",
            "10/10 [==============================] - 0s 3ms/step - loss: 0.3913 - accuracy: 0.2340\n",
            "Epoch 10/200\n",
            "10/10 [==============================] - 0s 2ms/step - loss: 0.3831 - accuracy: 0.1915\n",
            "Epoch 11/200\n",
            "10/10 [==============================] - 0s 2ms/step - loss: 0.3719 - accuracy: 0.1915\n",
            "Epoch 12/200\n",
            "10/10 [==============================] - 0s 2ms/step - loss: 0.3598 - accuracy: 0.1915\n",
            "Epoch 13/200\n",
            "10/10 [==============================] - 0s 2ms/step - loss: 0.3261 - accuracy: 0.3404\n",
            "Epoch 14/200\n",
            "10/10 [==============================] - 0s 2ms/step - loss: 0.3373 - accuracy: 0.2766\n",
            "Epoch 15/200\n",
            "10/10 [==============================] - 0s 2ms/step - loss: 0.3332 - accuracy: 0.3191\n",
            "Epoch 16/200\n",
            "10/10 [==============================] - 0s 2ms/step - loss: 0.3379 - accuracy: 0.2766\n",
            "Epoch 17/200\n",
            "10/10 [==============================] - 0s 3ms/step - loss: 0.3407 - accuracy: 0.2766\n",
            "Epoch 18/200\n",
            "10/10 [==============================] - 0s 3ms/step - loss: 0.3213 - accuracy: 0.4043\n",
            "Epoch 19/200\n",
            "10/10 [==============================] - 0s 2ms/step - loss: 0.3055 - accuracy: 0.4681\n",
            "Epoch 20/200\n",
            "10/10 [==============================] - 0s 2ms/step - loss: 0.2900 - accuracy: 0.4255\n",
            "Epoch 21/200\n",
            "10/10 [==============================] - 0s 2ms/step - loss: 0.3031 - accuracy: 0.4468\n",
            "Epoch 22/200\n",
            "10/10 [==============================] - 0s 2ms/step - loss: 0.2778 - accuracy: 0.5319\n",
            "Epoch 23/200\n",
            "10/10 [==============================] - 0s 2ms/step - loss: 0.2825 - accuracy: 0.4468\n",
            "Epoch 24/200\n",
            "10/10 [==============================] - 0s 3ms/step - loss: 0.2630 - accuracy: 0.5532\n",
            "Epoch 25/200\n",
            "10/10 [==============================] - 0s 2ms/step - loss: 0.2718 - accuracy: 0.5532\n",
            "Epoch 26/200\n",
            "10/10 [==============================] - 0s 2ms/step - loss: 0.2599 - accuracy: 0.6809\n",
            "Epoch 27/200\n",
            "10/10 [==============================] - 0s 3ms/step - loss: 0.2600 - accuracy: 0.6383\n",
            "Epoch 28/200\n",
            "10/10 [==============================] - 0s 3ms/step - loss: 0.2543 - accuracy: 0.5319\n",
            "Epoch 29/200\n",
            "10/10 [==============================] - 0s 2ms/step - loss: 0.2507 - accuracy: 0.5106\n",
            "Epoch 30/200\n",
            "10/10 [==============================] - 0s 3ms/step - loss: 0.2282 - accuracy: 0.6809\n",
            "Epoch 31/200\n",
            "10/10 [==============================] - 0s 2ms/step - loss: 0.2329 - accuracy: 0.6809\n",
            "Epoch 32/200\n",
            "10/10 [==============================] - 0s 2ms/step - loss: 0.2489 - accuracy: 0.5745\n",
            "Epoch 33/200\n",
            "10/10 [==============================] - 0s 2ms/step - loss: 0.2431 - accuracy: 0.6383\n",
            "Epoch 34/200\n",
            "10/10 [==============================] - 0s 3ms/step - loss: 0.2308 - accuracy: 0.5957\n",
            "Epoch 35/200\n",
            "10/10 [==============================] - 0s 3ms/step - loss: 0.2111 - accuracy: 0.7660\n",
            "Epoch 36/200\n",
            "10/10 [==============================] - 0s 2ms/step - loss: 0.2079 - accuracy: 0.7021\n",
            "Epoch 37/200\n",
            "10/10 [==============================] - 0s 2ms/step - loss: 0.1828 - accuracy: 0.7447\n",
            "Epoch 38/200\n",
            "10/10 [==============================] - 0s 3ms/step - loss: 0.1833 - accuracy: 0.7660\n",
            "Epoch 39/200\n",
            "10/10 [==============================] - 0s 2ms/step - loss: 0.1903 - accuracy: 0.7447\n",
            "Epoch 40/200\n",
            "10/10 [==============================] - 0s 2ms/step - loss: 0.1653 - accuracy: 0.8511\n",
            "Epoch 41/200\n",
            "10/10 [==============================] - 0s 3ms/step - loss: 0.1699 - accuracy: 0.7872\n",
            "Epoch 42/200\n",
            "10/10 [==============================] - 0s 2ms/step - loss: 0.1837 - accuracy: 0.7660\n",
            "Epoch 43/200\n",
            "10/10 [==============================] - 0s 2ms/step - loss: 0.1728 - accuracy: 0.7021\n",
            "Epoch 44/200\n",
            "10/10 [==============================] - 0s 2ms/step - loss: 0.1627 - accuracy: 0.8298\n",
            "Epoch 45/200\n",
            "10/10 [==============================] - 0s 2ms/step - loss: 0.1793 - accuracy: 0.7234\n",
            "Epoch 46/200\n",
            "10/10 [==============================] - 0s 2ms/step - loss: 0.1718 - accuracy: 0.7021\n",
            "Epoch 47/200\n",
            "10/10 [==============================] - 0s 2ms/step - loss: 0.1583 - accuracy: 0.7234\n",
            "Epoch 48/200\n",
            "10/10 [==============================] - 0s 2ms/step - loss: 0.1420 - accuracy: 0.8298\n",
            "Epoch 49/200\n",
            "10/10 [==============================] - 0s 4ms/step - loss: 0.1663 - accuracy: 0.7872\n",
            "Epoch 50/200\n",
            "10/10 [==============================] - 0s 3ms/step - loss: 0.1442 - accuracy: 0.8298\n",
            "Epoch 51/200\n",
            "10/10 [==============================] - 0s 2ms/step - loss: 0.1568 - accuracy: 0.7872\n",
            "Epoch 52/200\n",
            "10/10 [==============================] - 0s 2ms/step - loss: 0.1481 - accuracy: 0.8511\n",
            "Epoch 53/200\n",
            "10/10 [==============================] - 0s 2ms/step - loss: 0.1331 - accuracy: 0.8085\n",
            "Epoch 54/200\n",
            "10/10 [==============================] - 0s 2ms/step - loss: 0.1290 - accuracy: 0.8723\n",
            "Epoch 55/200\n",
            "10/10 [==============================] - 0s 2ms/step - loss: 0.1306 - accuracy: 0.8085\n",
            "Epoch 56/200\n",
            "10/10 [==============================] - 0s 2ms/step - loss: 0.1379 - accuracy: 0.7872\n",
            "Epoch 57/200\n",
            "10/10 [==============================] - 0s 2ms/step - loss: 0.1324 - accuracy: 0.7872\n",
            "Epoch 58/200\n",
            "10/10 [==============================] - 0s 3ms/step - loss: 0.1394 - accuracy: 0.9149\n",
            "Epoch 59/200\n",
            "10/10 [==============================] - 0s 2ms/step - loss: 0.1132 - accuracy: 0.8936\n",
            "Epoch 60/200\n",
            "10/10 [==============================] - 0s 3ms/step - loss: 0.1215 - accuracy: 0.8511\n",
            "Epoch 61/200\n",
            "10/10 [==============================] - 0s 2ms/step - loss: 0.1248 - accuracy: 0.7872\n",
            "Epoch 62/200\n",
            "10/10 [==============================] - 0s 2ms/step - loss: 0.1074 - accuracy: 0.8723\n",
            "Epoch 63/200\n",
            "10/10 [==============================] - 0s 2ms/step - loss: 0.1217 - accuracy: 0.8511\n",
            "Epoch 64/200\n",
            "10/10 [==============================] - 0s 2ms/step - loss: 0.1038 - accuracy: 0.8723\n",
            "Epoch 65/200\n",
            "10/10 [==============================] - 0s 3ms/step - loss: 0.1166 - accuracy: 0.8511\n",
            "Epoch 66/200\n",
            "10/10 [==============================] - 0s 3ms/step - loss: 0.1103 - accuracy: 0.8511\n",
            "Epoch 67/200\n",
            "10/10 [==============================] - 0s 2ms/step - loss: 0.1065 - accuracy: 0.8723\n",
            "Epoch 68/200\n",
            "10/10 [==============================] - 0s 2ms/step - loss: 0.0969 - accuracy: 0.9149\n",
            "Epoch 69/200\n",
            "10/10 [==============================] - 0s 4ms/step - loss: 0.0905 - accuracy: 0.8723\n",
            "Epoch 70/200\n",
            "10/10 [==============================] - 0s 3ms/step - loss: 0.0981 - accuracy: 0.8298\n",
            "Epoch 71/200\n",
            "10/10 [==============================] - 0s 3ms/step - loss: 0.1098 - accuracy: 0.8298\n",
            "Epoch 72/200\n",
            "10/10 [==============================] - 0s 2ms/step - loss: 0.0946 - accuracy: 0.8723\n",
            "Epoch 73/200\n",
            "10/10 [==============================] - 0s 3ms/step - loss: 0.0914 - accuracy: 0.8723\n",
            "Epoch 74/200\n",
            "10/10 [==============================] - 0s 3ms/step - loss: 0.1059 - accuracy: 0.8298\n",
            "Epoch 75/200\n",
            "10/10 [==============================] - 0s 2ms/step - loss: 0.0885 - accuracy: 0.9362\n",
            "Epoch 76/200\n",
            "10/10 [==============================] - 0s 2ms/step - loss: 0.0904 - accuracy: 0.8511\n",
            "Epoch 77/200\n",
            "10/10 [==============================] - 0s 2ms/step - loss: 0.1034 - accuracy: 0.8511\n",
            "Epoch 78/200\n",
            "10/10 [==============================] - 0s 2ms/step - loss: 0.1010 - accuracy: 0.8723\n",
            "Epoch 79/200\n",
            "10/10 [==============================] - 0s 2ms/step - loss: 0.0923 - accuracy: 0.8936\n",
            "Epoch 80/200\n",
            "10/10 [==============================] - 0s 3ms/step - loss: 0.0975 - accuracy: 0.8936\n",
            "Epoch 81/200\n",
            "10/10 [==============================] - 0s 2ms/step - loss: 0.0922 - accuracy: 0.8511\n",
            "Epoch 82/200\n",
            "10/10 [==============================] - 0s 3ms/step - loss: 0.0850 - accuracy: 0.8936\n",
            "Epoch 83/200\n",
            "10/10 [==============================] - 0s 3ms/step - loss: 0.0769 - accuracy: 0.8936\n",
            "Epoch 84/200\n",
            "10/10 [==============================] - 0s 3ms/step - loss: 0.0908 - accuracy: 0.8511\n",
            "Epoch 85/200\n",
            "10/10 [==============================] - 0s 2ms/step - loss: 0.0644 - accuracy: 0.9149\n",
            "Epoch 86/200\n",
            "10/10 [==============================] - 0s 2ms/step - loss: 0.0784 - accuracy: 0.9149\n",
            "Epoch 87/200\n",
            "10/10 [==============================] - 0s 2ms/step - loss: 0.0765 - accuracy: 0.9362\n",
            "Epoch 88/200\n",
            "10/10 [==============================] - 0s 3ms/step - loss: 0.0892 - accuracy: 0.8936\n",
            "Epoch 89/200\n",
            "10/10 [==============================] - 0s 3ms/step - loss: 0.0817 - accuracy: 0.8723\n",
            "Epoch 90/200\n",
            "10/10 [==============================] - 0s 2ms/step - loss: 0.0687 - accuracy: 0.9149\n",
            "Epoch 91/200\n",
            "10/10 [==============================] - 0s 2ms/step - loss: 0.0869 - accuracy: 0.8723\n",
            "Epoch 92/200\n",
            "10/10 [==============================] - 0s 3ms/step - loss: 0.0698 - accuracy: 0.9574\n",
            "Epoch 93/200\n",
            "10/10 [==============================] - 0s 3ms/step - loss: 0.0792 - accuracy: 0.9362\n",
            "Epoch 94/200\n",
            "10/10 [==============================] - 0s 3ms/step - loss: 0.0644 - accuracy: 0.9149\n",
            "Epoch 95/200\n",
            "10/10 [==============================] - 0s 3ms/step - loss: 0.0795 - accuracy: 0.8723\n",
            "Epoch 96/200\n",
            "10/10 [==============================] - 0s 3ms/step - loss: 0.0687 - accuracy: 0.8936\n",
            "Epoch 97/200\n",
            "10/10 [==============================] - 0s 3ms/step - loss: 0.0592 - accuracy: 0.9574\n",
            "Epoch 98/200\n",
            "10/10 [==============================] - 0s 3ms/step - loss: 0.0649 - accuracy: 0.9149\n",
            "Epoch 99/200\n",
            "10/10 [==============================] - 0s 3ms/step - loss: 0.0818 - accuracy: 0.8723\n",
            "Epoch 100/200\n",
            "10/10 [==============================] - 0s 2ms/step - loss: 0.0724 - accuracy: 0.8936\n",
            "Epoch 101/200\n",
            "10/10 [==============================] - 0s 3ms/step - loss: 0.0663 - accuracy: 0.8723\n",
            "Epoch 102/200\n",
            "10/10 [==============================] - 0s 2ms/step - loss: 0.0678 - accuracy: 0.8936\n",
            "Epoch 103/200\n",
            "10/10 [==============================] - 0s 4ms/step - loss: 0.0746 - accuracy: 0.9149\n",
            "Epoch 104/200\n",
            "10/10 [==============================] - 0s 2ms/step - loss: 0.0634 - accuracy: 0.8723\n",
            "Epoch 105/200\n",
            "10/10 [==============================] - 0s 2ms/step - loss: 0.0761 - accuracy: 0.8298\n",
            "Epoch 106/200\n",
            "10/10 [==============================] - 0s 2ms/step - loss: 0.0751 - accuracy: 0.8723\n",
            "Epoch 107/200\n",
            "10/10 [==============================] - 0s 3ms/step - loss: 0.0703 - accuracy: 0.8936\n",
            "Epoch 108/200\n",
            "10/10 [==============================] - 0s 2ms/step - loss: 0.0716 - accuracy: 0.9149\n",
            "Epoch 109/200\n",
            "10/10 [==============================] - 0s 2ms/step - loss: 0.0629 - accuracy: 0.8723\n",
            "Epoch 110/200\n",
            "10/10 [==============================] - 0s 3ms/step - loss: 0.0691 - accuracy: 0.8936\n",
            "Epoch 111/200\n",
            "10/10 [==============================] - 0s 2ms/step - loss: 0.0960 - accuracy: 0.8723\n",
            "Epoch 112/200\n",
            "10/10 [==============================] - 0s 2ms/step - loss: 0.0718 - accuracy: 0.9149\n",
            "Epoch 113/200\n",
            "10/10 [==============================] - 0s 2ms/step - loss: 0.0577 - accuracy: 0.9362\n",
            "Epoch 114/200\n",
            "10/10 [==============================] - 0s 3ms/step - loss: 0.0714 - accuracy: 0.8723\n",
            "Epoch 115/200\n",
            "10/10 [==============================] - 0s 2ms/step - loss: 0.0741 - accuracy: 0.9149\n",
            "Epoch 116/200\n",
            "10/10 [==============================] - 0s 3ms/step - loss: 0.0541 - accuracy: 0.9149\n",
            "Epoch 117/200\n",
            "10/10 [==============================] - 0s 3ms/step - loss: 0.0579 - accuracy: 0.9149\n",
            "Epoch 118/200\n",
            "10/10 [==============================] - 0s 3ms/step - loss: 0.0521 - accuracy: 0.9574\n",
            "Epoch 119/200\n",
            "10/10 [==============================] - 0s 3ms/step - loss: 0.0556 - accuracy: 0.8936\n",
            "Epoch 120/200\n",
            "10/10 [==============================] - 0s 2ms/step - loss: 0.0534 - accuracy: 0.9574\n",
            "Epoch 121/200\n",
            "10/10 [==============================] - 0s 2ms/step - loss: 0.0567 - accuracy: 0.9362\n",
            "Epoch 122/200\n",
            "10/10 [==============================] - 0s 4ms/step - loss: 0.0590 - accuracy: 0.9362\n",
            "Epoch 123/200\n",
            "10/10 [==============================] - 0s 2ms/step - loss: 0.0572 - accuracy: 0.9149\n",
            "Epoch 124/200\n",
            "10/10 [==============================] - 0s 2ms/step - loss: 0.0622 - accuracy: 0.8936\n",
            "Epoch 125/200\n",
            "10/10 [==============================] - 0s 3ms/step - loss: 0.0627 - accuracy: 0.8936\n",
            "Epoch 126/200\n",
            "10/10 [==============================] - 0s 2ms/step - loss: 0.0648 - accuracy: 0.8723\n",
            "Epoch 127/200\n",
            "10/10 [==============================] - 0s 3ms/step - loss: 0.0664 - accuracy: 0.8936\n",
            "Epoch 128/200\n",
            "10/10 [==============================] - 0s 2ms/step - loss: 0.0497 - accuracy: 0.9149\n",
            "Epoch 129/200\n",
            "10/10 [==============================] - 0s 2ms/step - loss: 0.0514 - accuracy: 0.8723\n",
            "Epoch 130/200\n",
            "10/10 [==============================] - 0s 3ms/step - loss: 0.0456 - accuracy: 0.9149\n",
            "Epoch 131/200\n",
            "10/10 [==============================] - 0s 2ms/step - loss: 0.0597 - accuracy: 0.9149\n",
            "Epoch 132/200\n",
            "10/10 [==============================] - 0s 3ms/step - loss: 0.0627 - accuracy: 0.8936\n",
            "Epoch 133/200\n",
            "10/10 [==============================] - 0s 3ms/step - loss: 0.0647 - accuracy: 0.8723\n",
            "Epoch 134/200\n",
            "10/10 [==============================] - 0s 3ms/step - loss: 0.0469 - accuracy: 0.9362\n",
            "Epoch 135/200\n",
            "10/10 [==============================] - 0s 3ms/step - loss: 0.0529 - accuracy: 0.9362\n",
            "Epoch 136/200\n",
            "10/10 [==============================] - 0s 2ms/step - loss: 0.0664 - accuracy: 0.8723\n",
            "Epoch 137/200\n",
            "10/10 [==============================] - 0s 2ms/step - loss: 0.0535 - accuracy: 0.9149\n",
            "Epoch 138/200\n",
            "10/10 [==============================] - 0s 3ms/step - loss: 0.0491 - accuracy: 0.9362\n",
            "Epoch 139/200\n",
            "10/10 [==============================] - 0s 3ms/step - loss: 0.0455 - accuracy: 0.9362\n",
            "Epoch 140/200\n",
            "10/10 [==============================] - 0s 4ms/step - loss: 0.0441 - accuracy: 0.9787\n",
            "Epoch 141/200\n",
            "10/10 [==============================] - 0s 2ms/step - loss: 0.0574 - accuracy: 0.8723\n",
            "Epoch 142/200\n",
            "10/10 [==============================] - 0s 3ms/step - loss: 0.0445 - accuracy: 0.9362\n",
            "Epoch 143/200\n",
            "10/10 [==============================] - 0s 3ms/step - loss: 0.0516 - accuracy: 0.9362\n",
            "Epoch 144/200\n",
            "10/10 [==============================] - 0s 3ms/step - loss: 0.0506 - accuracy: 0.9574\n",
            "Epoch 145/200\n",
            "10/10 [==============================] - 0s 3ms/step - loss: 0.0498 - accuracy: 0.9149\n",
            "Epoch 146/200\n",
            "10/10 [==============================] - 0s 3ms/step - loss: 0.0471 - accuracy: 0.9574\n",
            "Epoch 147/200\n",
            "10/10 [==============================] - 0s 3ms/step - loss: 0.0523 - accuracy: 0.9362\n",
            "Epoch 148/200\n",
            "10/10 [==============================] - 0s 3ms/step - loss: 0.0675 - accuracy: 0.8723\n",
            "Epoch 149/200\n",
            "10/10 [==============================] - 0s 2ms/step - loss: 0.0564 - accuracy: 0.9149\n",
            "Epoch 150/200\n",
            "10/10 [==============================] - 0s 2ms/step - loss: 0.0652 - accuracy: 0.8511\n",
            "Epoch 151/200\n",
            "10/10 [==============================] - 0s 3ms/step - loss: 0.0479 - accuracy: 0.9574\n",
            "Epoch 152/200\n",
            "10/10 [==============================] - 0s 3ms/step - loss: 0.0514 - accuracy: 0.9362\n",
            "Epoch 153/200\n",
            "10/10 [==============================] - 0s 4ms/step - loss: 0.0661 - accuracy: 0.8511\n",
            "Epoch 154/200\n",
            "10/10 [==============================] - 0s 2ms/step - loss: 0.0490 - accuracy: 0.9149\n",
            "Epoch 155/200\n",
            "10/10 [==============================] - 0s 2ms/step - loss: 0.0525 - accuracy: 0.8936\n",
            "Epoch 156/200\n",
            "10/10 [==============================] - 0s 2ms/step - loss: 0.0503 - accuracy: 0.9149\n",
            "Epoch 157/200\n",
            "10/10 [==============================] - 0s 3ms/step - loss: 0.0525 - accuracy: 0.9149\n",
            "Epoch 158/200\n",
            "10/10 [==============================] - 0s 2ms/step - loss: 0.0522 - accuracy: 0.9149\n",
            "Epoch 159/200\n",
            "10/10 [==============================] - 0s 3ms/step - loss: 0.0445 - accuracy: 0.9362\n",
            "Epoch 160/200\n",
            "10/10 [==============================] - 0s 3ms/step - loss: 0.0491 - accuracy: 0.9149\n",
            "Epoch 161/200\n",
            "10/10 [==============================] - 0s 3ms/step - loss: 0.0558 - accuracy: 0.8723\n",
            "Epoch 162/200\n",
            "10/10 [==============================] - 0s 3ms/step - loss: 0.0391 - accuracy: 0.9362\n",
            "Epoch 163/200\n",
            "10/10 [==============================] - 0s 3ms/step - loss: 0.0572 - accuracy: 0.8936\n",
            "Epoch 164/200\n",
            "10/10 [==============================] - 0s 2ms/step - loss: 0.0520 - accuracy: 0.9362\n",
            "Epoch 165/200\n",
            "10/10 [==============================] - 0s 2ms/step - loss: 0.0558 - accuracy: 0.8936\n",
            "Epoch 166/200\n",
            "10/10 [==============================] - 0s 3ms/step - loss: 0.0418 - accuracy: 0.9362\n",
            "Epoch 167/200\n",
            "10/10 [==============================] - 0s 3ms/step - loss: 0.0530 - accuracy: 0.9362\n",
            "Epoch 168/200\n",
            "10/10 [==============================] - 0s 3ms/step - loss: 0.0515 - accuracy: 0.9149\n",
            "Epoch 169/200\n",
            "10/10 [==============================] - 0s 3ms/step - loss: 0.0409 - accuracy: 0.9362\n",
            "Epoch 170/200\n",
            "10/10 [==============================] - 0s 3ms/step - loss: 0.0503 - accuracy: 0.9362\n",
            "Epoch 171/200\n",
            "10/10 [==============================] - 0s 2ms/step - loss: 0.0513 - accuracy: 0.9149\n",
            "Epoch 172/200\n",
            "10/10 [==============================] - 0s 3ms/step - loss: 0.0560 - accuracy: 0.8936\n",
            "Epoch 173/200\n",
            "10/10 [==============================] - 0s 3ms/step - loss: 0.0532 - accuracy: 0.8936\n",
            "Epoch 174/200\n",
            "10/10 [==============================] - 0s 3ms/step - loss: 0.0444 - accuracy: 0.9149\n",
            "Epoch 175/200\n",
            "10/10 [==============================] - 0s 3ms/step - loss: 0.0510 - accuracy: 0.8723\n",
            "Epoch 176/200\n",
            "10/10 [==============================] - 0s 3ms/step - loss: 0.0473 - accuracy: 0.8936\n",
            "Epoch 177/200\n",
            "10/10 [==============================] - 0s 2ms/step - loss: 0.0456 - accuracy: 0.9149\n",
            "Epoch 178/200\n",
            "10/10 [==============================] - 0s 2ms/step - loss: 0.0529 - accuracy: 0.9149\n",
            "Epoch 179/200\n",
            "10/10 [==============================] - 0s 3ms/step - loss: 0.0444 - accuracy: 0.9149\n",
            "Epoch 180/200\n",
            "10/10 [==============================] - 0s 3ms/step - loss: 0.0349 - accuracy: 0.9149\n",
            "Epoch 181/200\n",
            "10/10 [==============================] - 0s 2ms/step - loss: 0.0502 - accuracy: 0.9362\n",
            "Epoch 182/200\n",
            "10/10 [==============================] - 0s 3ms/step - loss: 0.0413 - accuracy: 0.9149\n",
            "Epoch 183/200\n",
            "10/10 [==============================] - 0s 2ms/step - loss: 0.0369 - accuracy: 0.9362\n",
            "Epoch 184/200\n",
            "10/10 [==============================] - 0s 3ms/step - loss: 0.0388 - accuracy: 0.9362\n",
            "Epoch 185/200\n",
            "10/10 [==============================] - 0s 3ms/step - loss: 0.0529 - accuracy: 0.8723\n",
            "Epoch 186/200\n",
            "10/10 [==============================] - 0s 2ms/step - loss: 0.0496 - accuracy: 0.9362\n",
            "Epoch 187/200\n",
            "10/10 [==============================] - 0s 2ms/step - loss: 0.0365 - accuracy: 0.9362\n",
            "Epoch 188/200\n",
            "10/10 [==============================] - 0s 3ms/step - loss: 0.0439 - accuracy: 0.9149\n",
            "Epoch 189/200\n",
            "10/10 [==============================] - 0s 3ms/step - loss: 0.0504 - accuracy: 0.9362\n",
            "Epoch 190/200\n",
            "10/10 [==============================] - 0s 2ms/step - loss: 0.0409 - accuracy: 0.9362\n",
            "Epoch 191/200\n",
            "10/10 [==============================] - 0s 3ms/step - loss: 0.0482 - accuracy: 0.8936\n",
            "Epoch 192/200\n",
            "10/10 [==============================] - 0s 2ms/step - loss: 0.0405 - accuracy: 0.9362\n",
            "Epoch 193/200\n",
            "10/10 [==============================] - 0s 3ms/step - loss: 0.0506 - accuracy: 0.9362\n",
            "Epoch 194/200\n",
            "10/10 [==============================] - 0s 2ms/step - loss: 0.0420 - accuracy: 0.8936\n",
            "Epoch 195/200\n",
            "10/10 [==============================] - 0s 3ms/step - loss: 0.0380 - accuracy: 0.9362\n",
            "Epoch 196/200\n",
            "10/10 [==============================] - 0s 3ms/step - loss: 0.0325 - accuracy: 0.9362\n",
            "Epoch 197/200\n",
            "10/10 [==============================] - 0s 2ms/step - loss: 0.0326 - accuracy: 0.9362\n",
            "Epoch 198/200\n",
            "10/10 [==============================] - 0s 3ms/step - loss: 0.0426 - accuracy: 0.9362\n",
            "Epoch 199/200\n",
            "10/10 [==============================] - 0s 4ms/step - loss: 0.0370 - accuracy: 0.9362\n",
            "Epoch 200/200\n",
            "10/10 [==============================] - 0s 3ms/step - loss: 0.0421 - accuracy: 0.9362\n",
            "Done\n"
          ]
        }
      ]
    },
    {
      "cell_type": "code",
      "source": [
        "score = model.evaluate(x_train, y_train)\n",
        "print(\"Loss: \", score[0])\n",
        "print(\"Accuracy: \", score[1])"
      ],
      "metadata": {
        "colab": {
          "base_uri": "https://localhost:8080/"
        },
        "id": "5bBWH7Sqe3Ti",
        "outputId": "7975b038-6c3c-46fe-b3a1-9bbd72039360"
      },
      "execution_count": 37,
      "outputs": [
        {
          "output_type": "stream",
          "name": "stdout",
          "text": [
            "2/2 [==============================] - 0s 5ms/step - loss: 0.0275 - accuracy: 0.9362\n",
            "Loss:  0.02750740945339203\n",
            "Accuracy:  0.936170220375061\n"
          ]
        }
      ]
    },
    {
      "cell_type": "code",
      "source": [
        "# Model prediction\n",
        "# some text for prediction\n",
        "text = [\"hello\", \"what can you do\", \"thanks\", \"drug\", \"bye\", \"do you love me\"]"
      ],
      "metadata": {
        "id": "t6qmxPv_fQ97"
      },
      "execution_count": 38,
      "outputs": []
    },
    {
      "cell_type": "code",
      "source": [
        "def clean_up_sentence(sentence):\n",
        "  word = nltk.word_tokenize(sentence)\n",
        "  # lemmatize each word, create base word\n",
        "  pattern_word = [lemmatizer.lemmatize(w.lower()) for w in word]\n",
        "  return pattern_word\n",
        "\n",
        "# normailize text to binary data\n",
        "def text_to_binary(sentence, words):\n",
        "  pattern_word = clean_up_sentence(sentence)\n",
        "  bag = [0] * len(words)\n",
        "  for s in pattern_word:\n",
        "    for i, w in enumerate(words):\n",
        "      if s == w:\n",
        "        bag[i] = 1\n",
        "  return bag\n",
        "\n",
        "# Predict class\n",
        "def predict_class(sentence, words, classes):\n",
        "  bag = text_to_binary(sentence, words)\n",
        "  res = model.predict(np.array([bag]))[0]\n",
        "  idx_argmax = np.argmax(res)\n",
        "  print(\"Result: \", idx_argmax, res[idx_argmax])\n",
        "  return classes[idx_argmax], res[idx_argmax] # class and probability\n",
        "\n",
        "# get response\n",
        "def get_response(sentence, words, classes):\n",
        "  tag, prob = predict_class(sentence, words, classes)\n",
        "  intents_list = intents['intents']\n",
        "  result = \"\"\n",
        "  for i in intents_list:\n",
        "    if i['tag'] == tag:\n",
        "      result = np.random.choice(i[\"responses\"])\n",
        "      break\n",
        "  return result"
      ],
      "metadata": {
        "id": "m2qgAby8hZez"
      },
      "execution_count": 43,
      "outputs": []
    },
    {
      "cell_type": "code",
      "source": [
        "for i in text:\n",
        "  print(\"Human: \", i)\n",
        "  print(\"Bot: \", get_response(i, words, classes))"
      ],
      "metadata": {
        "colab": {
          "base_uri": "https://localhost:8080/"
        },
        "id": "mgTflSqno_Fs",
        "outputId": "5a4ba8d5-289d-42ca-98fb-4240f9a8e943"
      },
      "execution_count": 44,
      "outputs": [
        {
          "output_type": "stream",
          "name": "stdout",
          "text": [
            "Human:  hello\n",
            "Result:  0 0.6534842\n",
            "Bot:  Hello, thanks for asking\n",
            "Human:  what can you do\n",
            "Result:  3 0.9999995\n",
            "Bot:  Offering support for Adverse drug reaction, Blood pressure, Hospitals and Pharmacies\n",
            "Human:  thanks\n",
            "Result:  2 0.9949025\n",
            "Bot:  Any time!\n",
            "Human:  drug\n",
            "Result:  4 0.94296265\n",
            "Bot:  Navigating to Adverse drug reaction module\n",
            "Human:  bye\n",
            "Result:  1 0.94459295\n",
            "Bot:  See you!\n",
            "Human:  do you love me\n",
            "Result:  3 0.9774943\n",
            "Bot:  I can guide you through Adverse drug reaction list, Blood pressure tracking, Hospitals and Pharmacies\n"
          ]
        }
      ]
    }
  ]
}